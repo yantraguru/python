{
 "cells": [
  {
   "cell_type": "markdown",
   "metadata": {},
   "source": [
    "This example is from book by Michael Stueben - Good Habit for great coding\n",
    "\n",
    "There is a paper detailing many of these techniques :\n",
    "https://arxiv.org/pdf/1803.07199.pdf"
   ]
  },
  {
   "cell_type": "code",
   "execution_count": 1,
   "metadata": {},
   "outputs": [],
   "source": [
    "import time"
   ]
  },
  {
   "cell_type": "code",
   "execution_count": 2,
   "metadata": {},
   "outputs": [],
   "source": [
    "def find_fib_a(num):\n",
    "    if num < 3:\n",
    "        return 1\n",
    "    a = b = 1\n",
    "    \n",
    "    for i in range(2, num):\n",
    "        a,b = b,a+b\n",
    " \n",
    "    return b"
   ]
  },
  {
   "cell_type": "code",
   "execution_count": 3,
   "metadata": {},
   "outputs": [
    {
     "name": "stdout",
     "output_type": "stream",
     "text": [
      "CPU times: user 0 ns, sys: 59 µs, total: 59 µs\n",
      "Wall time: 70.1 µs\n"
     ]
    },
    {
     "data": {
      "text/plain": [
       "1134903170"
      ]
     },
     "execution_count": 3,
     "metadata": {},
     "output_type": "execute_result"
    }
   ],
   "source": [
    "%time find_fib_a(45)"
   ]
  },
  {
   "cell_type": "code",
   "execution_count": 4,
   "metadata": {},
   "outputs": [],
   "source": [
    "def find_fib_recursion(num):\n",
    "    if num < 3:\n",
    "        return 1\n",
    "    return find_fib_recursion(num-1) + find_fib_recursion(num-2)"
   ]
  },
  {
   "cell_type": "code",
   "execution_count": 5,
   "metadata": {},
   "outputs": [
    {
     "name": "stdout",
     "output_type": "stream",
     "text": [
      "CPU times: user 2min 43s, sys: 2.54 ms, total: 2min 43s\n",
      "Wall time: 2min 43s\n"
     ]
    },
    {
     "data": {
      "text/plain": [
       "1134903170"
      ]
     },
     "execution_count": 5,
     "metadata": {},
     "output_type": "execute_result"
    }
   ],
   "source": [
    "%time find_fib_recursion(45)"
   ]
  },
  {
   "cell_type": "code",
   "execution_count": 10,
   "metadata": {},
   "outputs": [],
   "source": [
    "def find_fib_recursion_with_dict(num):\n",
    "    if num < 18:\n",
    "        return [0,1,1,2,3,5,8,13,21,34,55,89,144,233,377,610,987,1597][num]\n",
    "    \n",
    "    return find_fib_recursion_with_dict(num-1) + find_fib_recursion_with_dict(num-2)"
   ]
  },
  {
   "cell_type": "code",
   "execution_count": 11,
   "metadata": {},
   "outputs": [
    {
     "name": "stdout",
     "output_type": "stream",
     "text": [
      "CPU times: user 209 ms, sys: 0 ns, total: 209 ms\n",
      "Wall time: 208 ms\n"
     ]
    },
    {
     "data": {
      "text/plain": [
       "1134903170"
      ]
     },
     "execution_count": 11,
     "metadata": {},
     "output_type": "execute_result"
    }
   ],
   "source": [
    "%time find_fib_recursion_with_dict(45)"
   ]
  },
  {
   "cell_type": "code",
   "execution_count": 14,
   "metadata": {},
   "outputs": [],
   "source": [
    "def find_fib_recursion_with_dynamic_dict(num, dict):\n",
    "    if num in dict:\n",
    "        return dict[num]\n",
    "    \n",
    "    dict[num] = find_fib_recursion_with_dynamic_dict(num-1, dict) + \\\n",
    "                find_fib_recursion_with_dynamic_dict(num-2, dict)\n",
    "    return dict[num]"
   ]
  },
  {
   "cell_type": "code",
   "execution_count": 20,
   "metadata": {},
   "outputs": [
    {
     "name": "stdout",
     "output_type": "stream",
     "text": [
      "CPU times: user 29 µs, sys: 0 ns, total: 29 µs\n",
      "Wall time: 32.7 µs\n"
     ]
    },
    {
     "data": {
      "text/plain": [
       "1134903170"
      ]
     },
     "execution_count": 20,
     "metadata": {},
     "output_type": "execute_result"
    }
   ],
   "source": [
    "%time find_fib_recursion_with_dynamic_dict(45, {1:1,2:1})"
   ]
  },
  {
   "cell_type": "code",
   "execution_count": 30,
   "metadata": {},
   "outputs": [],
   "source": [
    "def find_fib_recursion_with_dynamic_member_dict(num):\n",
    "    if num in find_fib_recursion_with_dynamic_member_dict.dict:\n",
    "        return find_fib_recursion_with_dynamic_member_dict.dict[num]\n",
    "    \n",
    "    find_fib_recursion_with_dynamic_member_dict.dict[num] = find_fib_recursion_with_dynamic_member_dict(num-1) + \\\n",
    "                                                            find_fib_recursion_with_dynamic_member_dict(num-2)\n",
    "    return find_fib_recursion_with_dynamic_member_dict.dict[num]"
   ]
  },
  {
   "cell_type": "code",
   "execution_count": 31,
   "metadata": {},
   "outputs": [],
   "source": [
    "find_fib_recursion_with_dynamic_member_dict.dict = {1:1, 2:1}"
   ]
  },
  {
   "cell_type": "code",
   "execution_count": 32,
   "metadata": {},
   "outputs": [
    {
     "name": "stdout",
     "output_type": "stream",
     "text": [
      "CPU times: user 25 µs, sys: 0 ns, total: 25 µs\n",
      "Wall time: 27.4 µs\n"
     ]
    },
    {
     "data": {
      "text/plain": [
       "1134903170"
      ]
     },
     "execution_count": 32,
     "metadata": {},
     "output_type": "execute_result"
    }
   ],
   "source": [
    "%time find_fib_recursion_with_dynamic_member_dict(45)"
   ]
  },
  {
   "cell_type": "code",
   "execution_count": 37,
   "metadata": {},
   "outputs": [],
   "source": [
    "def find_fib_recursion_with_dynamic_dict_default(num, dict={1:1,2:1}):\n",
    "    if num in dict:\n",
    "        return dict[num]\n",
    "    \n",
    "    dict[num] = find_fib_recursion_with_dynamic_dict_default(num-1, dict) + \\\n",
    "                find_fib_recursion_with_dynamic_dict_default(num-2, dict)\n",
    "    return dict[num]"
   ]
  },
  {
   "cell_type": "code",
   "execution_count": 38,
   "metadata": {},
   "outputs": [
    {
     "name": "stdout",
     "output_type": "stream",
     "text": [
      "CPU times: user 72 µs, sys: 1 µs, total: 73 µs\n",
      "Wall time: 80.6 µs\n"
     ]
    },
    {
     "data": {
      "text/plain": [
       "1134903170"
      ]
     },
     "execution_count": 38,
     "metadata": {},
     "output_type": "execute_result"
    }
   ],
   "source": [
    "%time find_fib_recursion_with_dynamic_dict_default(45)"
   ]
  },
  {
   "cell_type": "code",
   "execution_count": 60,
   "metadata": {},
   "outputs": [],
   "source": [
    "def memoize(function):\n",
    "    dict = {}    \n",
    "    \n",
    "    def wrapper(num):\n",
    "        if num not in dict:\n",
    "            dict[num] = function(num)\n",
    "        return dict[num]            \n",
    "\n",
    "    return wrapper"
   ]
  },
  {
   "cell_type": "code",
   "execution_count": 61,
   "metadata": {},
   "outputs": [],
   "source": [
    "@memoize\n",
    "def find_fib_recursion_clean_dict(num):\n",
    "    if num < 3: return 1\n",
    "    return find_fib_recursion_clean_dict(num-1) + find_fib_recursion_clean_dict(num-2)"
   ]
  },
  {
   "cell_type": "code",
   "execution_count": 66,
   "metadata": {},
   "outputs": [
    {
     "name": "stdout",
     "output_type": "stream",
     "text": [
      "CPU times: user 3 µs, sys: 0 ns, total: 3 µs\n",
      "Wall time: 5.25 µs\n"
     ]
    },
    {
     "data": {
      "text/plain": [
       "1134903170"
      ]
     },
     "execution_count": 66,
     "metadata": {},
     "output_type": "execute_result"
    }
   ],
   "source": [
    "%time find_fib_recursion_clean_dict(45)"
   ]
  },
  {
   "cell_type": "code",
   "execution_count": null,
   "metadata": {},
   "outputs": [],
   "source": []
  }
 ],
 "metadata": {
  "kernelspec": {
   "display_name": "Python 3",
   "language": "python",
   "name": "python3"
  },
  "language_info": {
   "codemirror_mode": {
    "name": "ipython",
    "version": 3
   },
   "file_extension": ".py",
   "mimetype": "text/x-python",
   "name": "python",
   "nbconvert_exporter": "python",
   "pygments_lexer": "ipython3",
   "version": "3.7.6"
  }
 },
 "nbformat": 4,
 "nbformat_minor": 4
}
