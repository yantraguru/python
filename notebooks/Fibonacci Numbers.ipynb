{
 "cells": [
  {
   "cell_type": "markdown",
   "metadata": {},
   "source": [
    "This example is from book by Michael Stueben - Good Habit for great coding\n",
    "\n",
    "There is a paper detailing many of these techniques :\n",
    "https://arxiv.org/pdf/1803.07199.pdf"
   ]
  },
  {
   "cell_type": "code",
   "execution_count": 1,
   "metadata": {},
   "outputs": [],
   "source": [
    "import time\n",
    "from math import sqrt"
   ]
  },
  {
   "cell_type": "code",
   "execution_count": 2,
   "metadata": {},
   "outputs": [],
   "source": [
    "def find_fib_a(num):\n",
    "    if num < 3:\n",
    "        return 1\n",
    "    a = b = 1\n",
    "    \n",
    "    for i in range(2, num):\n",
    "        a,b = b,a+b\n",
    " \n",
    "    return b"
   ]
  },
  {
   "cell_type": "code",
   "execution_count": 3,
   "metadata": {},
   "outputs": [
    {
     "name": "stdout",
     "output_type": "stream",
     "text": [
      "CPU times: user 21 µs, sys: 2 µs, total: 23 µs\n",
      "Wall time: 31 µs\n"
     ]
    },
    {
     "data": {
      "text/plain": [
       "1134903170"
      ]
     },
     "execution_count": 3,
     "metadata": {},
     "output_type": "execute_result"
    }
   ],
   "source": [
    "%time find_fib_a(45)"
   ]
  },
  {
   "cell_type": "code",
   "execution_count": 4,
   "metadata": {},
   "outputs": [],
   "source": [
    "def find_fib_recursion(num):\n",
    "    if num < 3:\n",
    "        return 1\n",
    "    return find_fib_recursion(num-1) + find_fib_recursion(num-2)"
   ]
  },
  {
   "cell_type": "code",
   "execution_count": 5,
   "metadata": {},
   "outputs": [
    {
     "name": "stdout",
     "output_type": "stream",
     "text": [
      "CPU times: user 116 µs, sys: 11 µs, total: 127 µs\n",
      "Wall time: 129 µs\n"
     ]
    },
    {
     "data": {
      "text/plain": [
       "610"
      ]
     },
     "execution_count": 5,
     "metadata": {},
     "output_type": "execute_result"
    }
   ],
   "source": [
    "%time find_fib_recursion(15)"
   ]
  },
  {
   "cell_type": "code",
   "execution_count": 6,
   "metadata": {},
   "outputs": [],
   "source": [
    "def find_fib_recursion_with_dict(num):\n",
    "    if num < 18:\n",
    "        return [0,1,1,2,3,5,8,13,21,34,55,89,144,233,377,610,987,1597][num]\n",
    "    \n",
    "    return find_fib_recursion_with_dict(num-1) + find_fib_recursion_with_dict(num-2)"
   ]
  },
  {
   "cell_type": "code",
   "execution_count": 7,
   "metadata": {},
   "outputs": [
    {
     "name": "stdout",
     "output_type": "stream",
     "text": [
      "CPU times: user 233 ms, sys: 0 ns, total: 233 ms\n",
      "Wall time: 232 ms\n"
     ]
    },
    {
     "data": {
      "text/plain": [
       "1134903170"
      ]
     },
     "execution_count": 7,
     "metadata": {},
     "output_type": "execute_result"
    }
   ],
   "source": [
    "%time find_fib_recursion_with_dict(45)"
   ]
  },
  {
   "cell_type": "code",
   "execution_count": 8,
   "metadata": {},
   "outputs": [],
   "source": [
    "def find_fib_recursion_with_dynamic_dict(num, dict):\n",
    "    if num in dict:\n",
    "        return dict[num]\n",
    "    \n",
    "    dict[num] = find_fib_recursion_with_dynamic_dict(num-1, dict) + \\\n",
    "                find_fib_recursion_with_dynamic_dict(num-2, dict)\n",
    "    return dict[num]"
   ]
  },
  {
   "cell_type": "code",
   "execution_count": 9,
   "metadata": {},
   "outputs": [
    {
     "name": "stdout",
     "output_type": "stream",
     "text": [
      "CPU times: user 80 µs, sys: 4 µs, total: 84 µs\n",
      "Wall time: 93.5 µs\n"
     ]
    },
    {
     "data": {
      "text/plain": [
       "1134903170"
      ]
     },
     "execution_count": 9,
     "metadata": {},
     "output_type": "execute_result"
    }
   ],
   "source": [
    "%time find_fib_recursion_with_dynamic_dict(45, {1:1,2:1})"
   ]
  },
  {
   "cell_type": "code",
   "execution_count": 10,
   "metadata": {},
   "outputs": [],
   "source": [
    "def find_fib_recursion_with_dynamic_member_dict(num):\n",
    "    if num in find_fib_recursion_with_dynamic_member_dict.dict:\n",
    "        return find_fib_recursion_with_dynamic_member_dict.dict[num]\n",
    "    \n",
    "    find_fib_recursion_with_dynamic_member_dict.dict[num] = find_fib_recursion_with_dynamic_member_dict(num-1) + \\\n",
    "                                                            find_fib_recursion_with_dynamic_member_dict(num-2)\n",
    "    return find_fib_recursion_with_dynamic_member_dict.dict[num]"
   ]
  },
  {
   "cell_type": "code",
   "execution_count": 11,
   "metadata": {},
   "outputs": [],
   "source": [
    "find_fib_recursion_with_dynamic_member_dict.dict = {1:1, 2:1}"
   ]
  },
  {
   "cell_type": "code",
   "execution_count": 12,
   "metadata": {},
   "outputs": [
    {
     "name": "stdout",
     "output_type": "stream",
     "text": [
      "CPU times: user 33 µs, sys: 3 µs, total: 36 µs\n",
      "Wall time: 38.4 µs\n"
     ]
    },
    {
     "data": {
      "text/plain": [
       "1134903170"
      ]
     },
     "execution_count": 12,
     "metadata": {},
     "output_type": "execute_result"
    }
   ],
   "source": [
    "%time find_fib_recursion_with_dynamic_member_dict(45)"
   ]
  },
  {
   "cell_type": "code",
   "execution_count": 13,
   "metadata": {},
   "outputs": [],
   "source": [
    "def find_fib_recursion_with_dynamic_dict_default(num, dict={1:1,2:1}):\n",
    "    if num in dict:\n",
    "        return dict[num]\n",
    "    \n",
    "    dict[num] = find_fib_recursion_with_dynamic_dict_default(num-1, dict) + \\\n",
    "                find_fib_recursion_with_dynamic_dict_default(num-2, dict)\n",
    "    return dict[num]"
   ]
  },
  {
   "cell_type": "code",
   "execution_count": 14,
   "metadata": {},
   "outputs": [
    {
     "name": "stdout",
     "output_type": "stream",
     "text": [
      "CPU times: user 102 µs, sys: 8 µs, total: 110 µs\n",
      "Wall time: 125 µs\n"
     ]
    },
    {
     "data": {
      "text/plain": [
       "1134903170"
      ]
     },
     "execution_count": 14,
     "metadata": {},
     "output_type": "execute_result"
    }
   ],
   "source": [
    "%time find_fib_recursion_with_dynamic_dict_default(45)"
   ]
  },
  {
   "cell_type": "code",
   "execution_count": 15,
   "metadata": {},
   "outputs": [],
   "source": [
    "def memoize(function):\n",
    "    dict = {}    \n",
    "    \n",
    "    def wrapper(num):\n",
    "        if num not in dict:\n",
    "            dict[num] = function(num)\n",
    "        return dict[num]            \n",
    "\n",
    "    return wrapper"
   ]
  },
  {
   "cell_type": "code",
   "execution_count": 16,
   "metadata": {},
   "outputs": [],
   "source": [
    "@memoize\n",
    "def find_fib_recursion_clean_dict(num):\n",
    "    if num < 3: return 1\n",
    "    return find_fib_recursion_clean_dict(num-1) + find_fib_recursion_clean_dict(num-2)"
   ]
  },
  {
   "cell_type": "code",
   "execution_count": 17,
   "metadata": {},
   "outputs": [
    {
     "name": "stdout",
     "output_type": "stream",
     "text": [
      "CPU times: user 146 µs, sys: 0 ns, total: 146 µs\n",
      "Wall time: 156 µs\n"
     ]
    },
    {
     "data": {
      "text/plain": [
       "1134903170"
      ]
     },
     "execution_count": 17,
     "metadata": {},
     "output_type": "execute_result"
    }
   ],
   "source": [
    "%time find_fib_recursion_clean_dict(45)"
   ]
  },
  {
   "cell_type": "code",
   "execution_count": 32,
   "metadata": {},
   "outputs": [],
   "source": [
    "def find_fib_closed_formula(num):\n",
    "    sqrt5 = sqrt(5)\n",
    "    phi   = (1 + sqrt5)/2\n",
    "    return round((phi**num)/sqrt5)"
   ]
  },
  {
   "cell_type": "code",
   "execution_count": 37,
   "metadata": {},
   "outputs": [
    {
     "name": "stdout",
     "output_type": "stream",
     "text": [
      "CPU times: user 0 ns, sys: 8 µs, total: 8 µs\n",
      "Wall time: 10 µs\n"
     ]
    },
    {
     "data": {
      "text/plain": [
       "1134903170"
      ]
     },
     "execution_count": 37,
     "metadata": {},
     "output_type": "execute_result"
    }
   ],
   "source": [
    "%time find_fib_closed_formula(45)"
   ]
  },
  {
   "cell_type": "code",
   "execution_count": 21,
   "metadata": {},
   "outputs": [],
   "source": [
    "def mat_mul(m1,m2):\n",
    "    m = [[0,0],[0,0]]\n",
    "    m[0][0] = m1[0][0]*m2[0][0] + m1[0][1]*m2[1][0]\n",
    "    m[0][1] = m1[0][0]*m2[0][1] + m1[0][1]*m2[1][1]\n",
    "    m[1][0] = m1[1][0]*m2[0][0] + m1[1][1]*m2[1][0]\n",
    "    m[1][1] = m1[1][0]*m2[0][1] + m1[1][1]*m2[1][1]\n",
    "    return m"
   ]
  },
  {
   "cell_type": "code",
   "execution_count": 24,
   "metadata": {},
   "outputs": [],
   "source": [
    "def find_fib_by_matrix_ops(num):\n",
    "    m = [[1,0],[0,1]]\n",
    "    for i in range(1,num):\n",
    "        m = mat_mul(m,[[1,1],[1,0]])\n",
    "    return m[0][0]"
   ]
  },
  {
   "cell_type": "code",
   "execution_count": 31,
   "metadata": {},
   "outputs": [
    {
     "name": "stdout",
     "output_type": "stream",
     "text": [
      "CPU times: user 101 µs, sys: 12 µs, total: 113 µs\n",
      "Wall time: 117 µs\n"
     ]
    },
    {
     "data": {
      "text/plain": [
       "1134903170"
      ]
     },
     "execution_count": 31,
     "metadata": {},
     "output_type": "execute_result"
    }
   ],
   "source": [
    "%time find_fib_by_matrix_ops(45)"
   ]
  },
  {
   "cell_type": "code",
   "execution_count": 2,
   "metadata": {},
   "outputs": [],
   "source": [
    "def find_fib_recursion_init(num, a = 0, b = 1):\n",
    "    if num == 1:\n",
    "        return b\n",
    "    \n",
    "    return find_fib_recursion_init(num - 1, b, a+b)"
   ]
  },
  {
   "cell_type": "code",
   "execution_count": 16,
   "metadata": {},
   "outputs": [
    {
     "name": "stdout",
     "output_type": "stream",
     "text": [
      "CPU times: user 8 µs, sys: 1 µs, total: 9 µs\n",
      "Wall time: 10.5 µs\n"
     ]
    },
    {
     "data": {
      "text/plain": [
       "1134903170"
      ]
     },
     "execution_count": 16,
     "metadata": {},
     "output_type": "execute_result"
    }
   ],
   "source": [
    "%time find_fib_recursion_init(45)"
   ]
  }
 ],
 "metadata": {
  "kernelspec": {
   "display_name": "Python 3",
   "language": "python",
   "name": "python3"
  },
  "language_info": {
   "codemirror_mode": {
    "name": "ipython",
    "version": 3
   },
   "file_extension": ".py",
   "mimetype": "text/x-python",
   "name": "python",
   "nbconvert_exporter": "python",
   "pygments_lexer": "ipython3",
   "version": "3.7.6"
  }
 },
 "nbformat": 4,
 "nbformat_minor": 4
}
